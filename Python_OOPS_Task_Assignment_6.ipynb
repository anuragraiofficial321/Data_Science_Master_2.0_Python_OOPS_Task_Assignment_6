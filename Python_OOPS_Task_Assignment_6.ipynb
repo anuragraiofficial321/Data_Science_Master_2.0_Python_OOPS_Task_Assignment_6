{
 "cells": [
  {
   "cell_type": "markdown",
   "metadata": {},
   "source": [
    "### Q1, Create a vehicle class with an init method having instance variables as name_of_vehicle, max_speed and average_of_vehicle. "
   ]
  },
  {
   "cell_type": "code",
   "execution_count": 2,
   "metadata": {},
   "outputs": [],
   "source": [
    "class vehicle:\n",
    "    def __init__(self,name_of_vehicle,max_speed,average_of_vehicle):\n",
    "        self.name_of_vehicle=name_of_vehicle\n",
    "        self.max_speed=max_speed\n",
    "        self.average_of_vehicle=average_of_vehicle\n",
    "        "
   ]
  },
  {
   "cell_type": "code",
   "execution_count": 7,
   "metadata": {},
   "outputs": [],
   "source": [
    "car1=vehicle(\"fortuner\",\"200 km/h\",\"25 km/l\")  # I Create object of vehicle class"
   ]
  },
  {
   "cell_type": "code",
   "execution_count": 8,
   "metadata": {},
   "outputs": [
    {
     "data": {
      "text/plain": [
       "'fortuner'"
      ]
     },
     "execution_count": 8,
     "metadata": {},
     "output_type": "execute_result"
    }
   ],
   "source": [
    "car1.name_of_vehicle   #we can access the variables with the help of object of vehicle"
   ]
  },
  {
   "cell_type": "code",
   "execution_count": 11,
   "metadata": {},
   "outputs": [
    {
     "data": {
      "text/plain": [
       "'200 km/h'"
      ]
     },
     "execution_count": 11,
     "metadata": {},
     "output_type": "execute_result"
    }
   ],
   "source": [
    "car1.max_speed"
   ]
  },
  {
   "cell_type": "code",
   "execution_count": 10,
   "metadata": {},
   "outputs": [
    {
     "data": {
      "text/plain": [
       "'25 km/l'"
      ]
     },
     "execution_count": 10,
     "metadata": {},
     "output_type": "execute_result"
    }
   ],
   "source": [
    "car1.average_of_vehicle"
   ]
  },
  {
   "cell_type": "markdown",
   "metadata": {},
   "source": [
    "### 2.Create a child class car from the vehicle class created in Que 1, which will inherit the vehicle class.Create a method named seating_capacity which takes capacity as an argument and returns the name of the vehicle and its seating capacity."
   ]
  },
  {
   "cell_type": "code",
   "execution_count": 39,
   "metadata": {},
   "outputs": [],
   "source": [
    "class vehicle:  #parent class\n",
    "    def __init__(self,name_of_vehicle,max_speed,average_of_vehicle):\n",
    "        self.name_of_vehicle=name_of_vehicle\n",
    "        self.max_speed=max_speed\n",
    "        self.average_of_vehicle=average_of_vehicle\n",
    "        "
   ]
  },
  {
   "cell_type": "code",
   "execution_count": 40,
   "metadata": {},
   "outputs": [],
   "source": [
    "class car(vehicle):\n",
    "    def __init__(self,name_of_vehicle,max_speed,average_of_vehicle):\n",
    "        vehicle.__init__(self,name_of_vehicle,max_speed,average_of_vehicle)\n",
    "\n",
    "    def seating_capacity(self,capacity):\n",
    "        if capacity<=6:\n",
    "            return f\"{self.name_of_vehicle} has a seating capacity of {capacity} people.\"\n",
    "        else:\n",
    "            return f\"No Car has a seating capacity of {capacity} people.\"\n",
    "\n",
    "      \n",
    "\n"
   ]
  },
  {
   "cell_type": "code",
   "execution_count": 41,
   "metadata": {},
   "outputs": [],
   "source": [
    "cap=car(\"fortuner\",\"200 km/h\",\"25 km/l\")"
   ]
  },
  {
   "cell_type": "code",
   "execution_count": 42,
   "metadata": {},
   "outputs": [
    {
     "data": {
      "text/plain": [
       "'fortuner has a seating capacity of 5 people.'"
      ]
     },
     "execution_count": 42,
     "metadata": {},
     "output_type": "execute_result"
    }
   ],
   "source": [
    "cap.seating_capacity(5)"
   ]
  },
  {
   "cell_type": "code",
   "execution_count": 43,
   "metadata": {},
   "outputs": [
    {
     "data": {
      "text/plain": [
       "'No Car has a seating capacity of 7 people.'"
      ]
     },
     "execution_count": 43,
     "metadata": {},
     "output_type": "execute_result"
    }
   ],
   "source": [
    "cap.seating_capacity(7)"
   ]
  },
  {
   "cell_type": "markdown",
   "metadata": {},
   "source": [
    "### Q3. What is multiple inheritance? Write a python code to demonstrate multiple inheritance. \n",
    "\n",
    "\n",
    "#### Multiple Inheritance Definition:\n",
    "\n",
    "- Multiple inheritance is a feature in object-oriented programming\n",
    "- It allows a class to inherit attributes and methods from more than one parent class.\n",
    "- In other words,a child class can have multiple parent classes.\n",
    "- Multiple inheritance can be used when we want to reuse code from multiple existing classes in a new class.\n",
    "- It is useful when we need to model complex relationships between classes that cannot be adequately represented using single inheritance."
   ]
  },
  {
   "cell_type": "code",
   "execution_count": 44,
   "metadata": {},
   "outputs": [],
   "source": [
    "class Vehicle: # Parent class 1\n",
    "    def __init__(self, name, max_speed):\n",
    "        self.name = name\n",
    "        self.max_speed = max_speed\n",
    "\n",
    "    def display_info(self):\n",
    "        print(f\"Vehicle:{self.name}\")\n",
    "        print(f\"Max Speed:{self.max_speed} mph\")"
   ]
  },
  {
   "cell_type": "code",
   "execution_count": 45,
   "metadata": {},
   "outputs": [],
   "source": [
    "# Parent class 2\n",
    "class Engine:\n",
    "    def __init__(self, fuel_type):\n",
    "        self.fuel_type = fuel_type\n",
    "\n",
    "    def display_fuel_type(self):\n",
    "        print(f\"Fuel Type: {self.fuel_type}\")"
   ]
  },
  {
   "cell_type": "code",
   "execution_count": 46,
   "metadata": {},
   "outputs": [],
   "source": [
    "#Child class inheriting from both Vehicle and Engine\n",
    "class Car(Vehicle, Engine):\n",
    "    def __init__(self, name, max_speed, fuel_type):\n",
    "        Vehicle.__init__(self, name, max_speed)\n",
    "        Engine.__init__(self, fuel_type)\n",
    "\n",
    "    def display_car_info(self):\n",
    "        self.display_info()  \n",
    "        self.display_fuel_type()  "
   ]
  },
  {
   "cell_type": "code",
   "execution_count": 47,
   "metadata": {},
   "outputs": [],
   "source": [
    "# Create an instance of the Car class\n",
    "my_car = Car(\"Toyota Camry\", 120, \"Gasoline\")\n"
   ]
  },
  {
   "cell_type": "code",
   "execution_count": 48,
   "metadata": {},
   "outputs": [
    {
     "name": "stdout",
     "output_type": "stream",
     "text": [
      "Vehicle:Toyota Camry\n",
      "Max Speed:120 mph\n",
      "Fuel Type: Gasoline\n"
     ]
    }
   ],
   "source": [
    "# Display information about the car\n",
    "my_car.display_car_info()"
   ]
  },
  {
   "cell_type": "markdown",
   "metadata": {},
   "source": [
    "### Q4. What are getter and setter in python? Create a class and create a getter and a setter method in this class.\n",
    "\n",
    "#### Solution:\n",
    "\n",
    "- Getters and setters are useful for controlling access to class attributes and ensuring data encapsulation.\n",
    "\n",
    "- Getters and setters are implemented as **methods** rather than **properties**.\n",
    "\n",
    "- Getters and setters can be used to add validation logic around getting and setting attribute values, avoid direct access to private variables, and ensure data integrity within class.\n",
    "\n",
    "- We can use **decorators** to create getters and setters in Python\n"
   ]
  },
  {
   "cell_type": "code",
   "execution_count": 1,
   "metadata": {},
   "outputs": [],
   "source": [
    "class Person:\n",
    "    def __init__(self, name):\n",
    "        self.__name = name\n",
    "\n",
    "    @property\n",
    "    def name(self):\n",
    "        return self.__name\n",
    "\n",
    "    @name.setter\n",
    "    def name(self, name):\n",
    "        self.__name = name"
   ]
  },
  {
   "cell_type": "code",
   "execution_count": 2,
   "metadata": {},
   "outputs": [
    {
     "name": "stdout",
     "output_type": "stream",
     "text": [
      "Shivam\n"
     ]
    }
   ],
   "source": [
    "person = Person(\"Shivam\")\n",
    "print(person.name) \n",
    "# With the getter we can access the private variable value"
   ]
  },
  {
   "cell_type": "code",
   "execution_count": 3,
   "metadata": {},
   "outputs": [
    {
     "name": "stdout",
     "output_type": "stream",
     "text": [
      "Anurag\n"
     ]
    }
   ],
   "source": [
    "person.name = \"Anurag\"\n",
    "print(person.name)\n",
    "\n",
    "# we can update the private variable value using setter function"
   ]
  },
  {
   "cell_type": "markdown",
   "metadata": {},
   "source": [
    "\n",
    "- the `@property` decorator is used to define a getter method for the name attribute\n",
    "- he `@name.setter` decorator is used to define a setter method for the name attribute.\n"
   ]
  },
  {
   "cell_type": "markdown",
   "metadata": {},
   "source": [
    "### Q5 :What is method overriding in python? Write a python code to demonstrate method overriding.\n",
    "\n",
    "- Method overriding is a feature of object-oriented programming that allows a subclass to provide a specific implementation of a method that is already provided by its superclass.\n",
    "\n",
    "- When a method in a subclass has the same name, same parameters or signature, and same return type as a method in its superclass, then the method in the subclass is said to override the method in the superclass.\n",
    "\n",
    "- The version of a method that is executed will be determined by the object that is used to invoke it.\n",
    "\n",
    "- If an object of the subclass is used to invoke the method, then the version of the method in the subclass will be executed. If an object of the superclass is used to invoke the method, then the version of the method in the superclass will be executed.\n",
    "\n",
    "- Method overriding can be useful when we want to provide different behavior for a method in a subclass while still retaining the same method name and signature as the superclass. It allows us to customize or extend the functionality of inherited methods according to our specific requirements.\n"
   ]
  },
  {
   "cell_type": "code",
   "execution_count": 4,
   "metadata": {},
   "outputs": [
    {
     "name": "stdout",
     "output_type": "stream",
     "text": [
      "The animal makes a sound\n",
      "The dog barks\n"
     ]
    }
   ],
   "source": [
    "class Animal:\n",
    "    def make_sound(self):\n",
    "        print(\"The animal makes a sound\")\n",
    "\n",
    "\n",
    "class Dog(Animal):\n",
    "    def make_sound(self):\n",
    "        print(\"The dog barks\")\n",
    "\n",
    "\n",
    "animal = Animal()\n",
    "dog = Dog()\n",
    "\n",
    "animal.make_sound()  # Output: The animal makes a sound\n",
    "dog.make_sound()  # Output: The dog barks"
   ]
  },
  {
   "cell_type": "markdown",
   "metadata": {},
   "source": [
    "- When we create an object of the `Animal` class and call the `make_sound()` method, it prints \"The animal makes a sound\".\n",
    "\n",
    "- When we create an object of the `Dog` class and call the `make_sound()` method, it prints \"The dog barks\".\n"
   ]
  }
 ],
 "metadata": {
  "kernelspec": {
   "display_name": "base",
   "language": "python",
   "name": "python3"
  },
  "language_info": {
   "codemirror_mode": {
    "name": "ipython",
    "version": 3
   },
   "file_extension": ".py",
   "mimetype": "text/x-python",
   "name": "python",
   "nbconvert_exporter": "python",
   "pygments_lexer": "ipython3",
   "version": "3.11.4"
  },
  "orig_nbformat": 4
 },
 "nbformat": 4,
 "nbformat_minor": 2
}
